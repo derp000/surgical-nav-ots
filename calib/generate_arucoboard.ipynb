{
 "cells": [
  {
   "cell_type": "code",
   "execution_count": 2,
   "metadata": {},
   "outputs": [],
   "source": [
    "import cv2\n",
    "import matplotlib.pyplot as plt\n",
    "import numpy as np"
   ]
  },
  {
   "cell_type": "markdown",
   "metadata": {},
   "source": [
    "The following cell is adapted from samples/cpp/tutorial_code/objectDetection/create_board.cpp. Define units however you like since the only thing setting `markerLength`, etc. does is compute PnP in the units you give. Note that the printed length will be proportional to the values provided below but not equal to. After printing, be sure to set markerLength to its actual measured length.\n"
   ]
  },
  {
   "cell_type": "code",
   "execution_count": 20,
   "metadata": {},
   "outputs": [],
   "source": [
    "markerLength = 2.0 / 100  # cm to m\n",
    "markerSep = 0.7 * markerLength  # cm to m\n",
    "numMarkersW = 5\n",
    "numMarkersH = 5\n",
    "newboard = cv2.aruco.GridBoard(\n",
    "    (numMarkersW, numMarkersH),\n",
    "    markerLength,\n",
    "    markerSep,\n",
    "    cv2.aruco.getPredefinedDictionary(cv2.aruco.DICT_4X4_50),\n",
    ")"
   ]
  },
  {
   "cell_type": "markdown",
   "metadata": {},
   "source": [
    "If desired, you may change `marginSize` (default 0) or `borderBits` (default 1)."
   ]
  },
  {
   "cell_type": "code",
   "execution_count": 22,
   "metadata": {},
   "outputs": [],
   "source": [
    "cv2.imshow(\n",
    "    \"board\", newboard.generateImage((567, 567), marginSize=None, borderBits=None)\n",
    ")\n",
    "cv2.waitKey(0)\n",
    "cv2.destroyAllWindows()"
   ]
  }
 ],
 "metadata": {
  "kernelspec": {
   "display_name": "probe-env",
   "language": "python",
   "name": "python3"
  },
  "language_info": {
   "codemirror_mode": {
    "name": "ipython",
    "version": 3
   },
   "file_extension": ".py",
   "mimetype": "text/x-python",
   "name": "python",
   "nbconvert_exporter": "python",
   "pygments_lexer": "ipython3",
   "version": "3.11.2"
  }
 },
 "nbformat": 4,
 "nbformat_minor": 2
}
