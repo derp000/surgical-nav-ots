{
 "cells": [
  {
   "cell_type": "code",
   "execution_count": null,
   "metadata": {},
   "outputs": [],
   "source": [
    "import cv2\n",
    "import numpy as np\n",
    "import matplotlib.pyplot as plt\n",
    "import sksurgeryimage.calibration.chessboard_point_detector as cpd\n",
    "import sksurgerycalibration.video.video_calibration_driver_mono as mc"
   ]
  },
  {
   "cell_type": "markdown",
   "metadata": {},
   "source": [
    "# Calibration"
   ]
  },
  {
   "cell_type": "code",
   "execution_count": null,
   "metadata": {},
   "outputs": [],
   "source": [
    "chessboard_corners = (14, 10)\n",
    "min_points_to_detect = chessboard_corners[0] * chessboard_corners[1]\n",
    "square_size_mm = 6\n",
    "\n",
    "video_source = cv2.VideoCapture(1)\n",
    "video_source.set(cv2.CAP_PROP_FRAME_HEIGHT, 1080)\n",
    "video_source.set(cv2.CAP_PROP_FRAME_WIDTH, 1920)\n",
    "video_source.set(cv2.CAP_PROP_AUTOFOCUS, 0)\n",
    "video_source.set(cv2.CAP_PROP_AUTO_EXPOSURE, 1)"
   ]
  },
  {
   "cell_type": "markdown",
   "metadata": {},
   "source": [
    "You may re-run the below cell to clear obj/img points."
   ]
  },
  {
   "cell_type": "code",
   "execution_count": null,
   "metadata": {},
   "outputs": [],
   "source": [
    "detector = cpd.ChessboardPointDetector(chessboard_corners, square_size_mm)\n",
    "calibrator = mc.MonoVideoCalibrationDriver(detector, min_points_to_detect)"
   ]
  },
  {
   "cell_type": "code",
   "execution_count": null,
   "metadata": {},
   "outputs": [],
   "source": [
    "_, frame = video_source.read()\n",
    "number_of_points = calibrator.grab_data(frame)\n",
    "\n",
    "if number_of_points > 0:\n",
    "    img_pts = calibrator.video_data.image_points_arrays[-1]\n",
    "    ###print(img_pts.shape)##(140, 1, 2)\n",
    "    frame = cv2.drawChessboardCorners(\n",
    "        frame, chessboard_corners, img_pts, number_of_points\n",
    "    )\n",
    "plt.imshow(frame)\n",
    "plt.show()\n",
    "\n",
    "number_of_views = calibrator.get_number_of_views()\n",
    "print(f\"Detected {number_of_points} corners\")\n",
    "print(f\"{number_of_views} frames captured\")"
   ]
  },
  {
   "cell_type": "markdown",
   "metadata": {},
   "source": [
    "If detected output is undesirable, pop that set of obj/img points in the cell below. Note that `pop()` will only work when views > 1."
   ]
  },
  {
   "cell_type": "code",
   "execution_count": null,
   "metadata": {},
   "outputs": [],
   "source": [
    "calibrator.pop()\n",
    "calibrator.get_number_of_views()"
   ]
  },
  {
   "cell_type": "markdown",
   "metadata": {},
   "source": [
    "Get intrinsics. Ideally, `rms < 0.5`."
   ]
  },
  {
   "cell_type": "code",
   "execution_count": null,
   "metadata": {},
   "outputs": [],
   "source": [
    "if number_of_views > 1:\n",
    "    rms, params = calibrator.calibrate()\n",
    "    print(f\"Reprojection (2D) error is: \\n {rms}\")\n",
    "    print(f\"Intrinsics are: \\n  {params.camera_matrix.tolist()}\")\n",
    "    print(f\"Distortion matrix is:  \\n {params.dist_coeffs.tolist()}\")"
   ]
  },
  {
   "cell_type": "code",
   "execution_count": null,
   "metadata": {},
   "outputs": [],
   "source": [
    "video_source.release()"
   ]
  },
  {
   "cell_type": "markdown",
   "metadata": {},
   "source": [
    "# Undistortion"
   ]
  },
  {
   "cell_type": "code",
   "execution_count": null,
   "metadata": {},
   "outputs": [],
   "source": [
    "h, w = frame.shape[:2]\n",
    "newintrinsics, roi = cv2.getOptimalNewCameraMatrix(\n",
    "    params.camera_matrix, params.dist_coeffs, (w, h), 1, (w, h)\n",
    ")"
   ]
  },
  {
   "cell_type": "code",
   "execution_count": null,
   "metadata": {},
   "outputs": [],
   "source": [
    "plt.imshow(frame)"
   ]
  },
  {
   "cell_type": "code",
   "execution_count": null,
   "metadata": {},
   "outputs": [],
   "source": [
    "dst = cv2.undistort(frame, params.camera_matrix, params.dist_coeffs)\n",
    "\n",
    "# Only run this if you want to crop the frame.\n",
    "# x, y, w, h = roi\n",
    "# dst = dst[y : y + h, x : x + w]\n",
    "\n",
    "plt.imshow(dst)"
   ]
  }
 ],
 "metadata": {
  "kernelspec": {
   "display_name": "probe-env",
   "language": "python",
   "name": "python3"
  },
  "language_info": {
   "codemirror_mode": {
    "name": "ipython",
    "version": 3
   },
   "file_extension": ".py",
   "mimetype": "text/x-python",
   "name": "python",
   "nbconvert_exporter": "python",
   "pygments_lexer": "ipython3",
   "version": "3.11.2"
  }
 },
 "nbformat": 4,
 "nbformat_minor": 2
}
