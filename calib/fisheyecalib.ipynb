{
 "cells": [
  {
   "cell_type": "markdown",
   "metadata": {},
   "source": [
    "# Calibration"
   ]
  },
  {
   "cell_type": "code",
   "execution_count": null,
   "metadata": {},
   "outputs": [],
   "source": [
    "import cv2\n",
    "import numpy as np\n",
    "import matplotlib.pyplot as plt\n",
    "\n",
    "CHECKERBOARD = (14, 10)\n",
    "square_size_mm = 6\n",
    "subpix_criteria = (cv2.TERM_CRITERIA_EPS + cv2.TERM_CRITERIA_MAX_ITER, 30, 0.1)\n",
    "calibration_flags = (\n",
    "    cv2.fisheye.CALIB_RECOMPUTE_EXTRINSIC\n",
    "    + cv2.fisheye.CALIB_CHECK_COND\n",
    "    + cv2.fisheye.CALIB_FIX_SKEW\n",
    ")\n",
    "objp = np.zeros((1, CHECKERBOARD[0] * CHECKERBOARD[1], 3), np.float32)\n",
    "objp[0, :, :2] = (\n",
    "    np.mgrid[0 : CHECKERBOARD[0], 0 : CHECKERBOARD[1]].T.reshape(-1, 2) * square_size_mm\n",
    ")\n",
    "cap = cv2.VideoCapture(1)\n",
    "\n",
    "cap.set(cv2.CAP_PROP_FRAME_HEIGHT, 720)\n",
    "cap.set(cv2.CAP_PROP_FRAME_WIDTH, 1280)\n",
    "cap.set(cv2.CAP_PROP_AUTO_EXPOSURE, 1)"
   ]
  },
  {
   "cell_type": "code",
   "execution_count": null,
   "metadata": {},
   "outputs": [],
   "source": [
    "objpoints = []  # 3d point in real world space\n",
    "imgpoints = []  # 2d points in image plane."
   ]
  },
  {
   "cell_type": "code",
   "execution_count": null,
   "metadata": {},
   "outputs": [],
   "source": [
    "_ret, frame = cap.read()\n",
    "gray = cv2.cvtColor(frame, cv2.COLOR_BGR2GRAY)\n",
    "# Find the chess board corners\n",
    "ret, corners = cv2.findChessboardCorners(\n",
    "    gray,\n",
    "    CHECKERBOARD,\n",
    "    cv2.CALIB_CB_ADAPTIVE_THRESH\n",
    "    + cv2.CALIB_CB_FAST_CHECK\n",
    "    + cv2.CALIB_CB_NORMALIZE_IMAGE,\n",
    ")\n",
    "# If found, add object points, image points (after refining them)\n",
    "if ret == True:\n",
    "    objpoints.append(objp)\n",
    "    cv2.cornerSubPix(gray, corners, (5, 5), (-1, -1), subpix_criteria)\n",
    "    imgpoints.append(corners)\n",
    "    cv2.drawChessboardCorners(frame, CHECKERBOARD, corners, ret)\n",
    "plt.imshow(frame)\n",
    "plt.show()"
   ]
  },
  {
   "cell_type": "markdown",
   "metadata": {},
   "source": [
    "If detected output is undesirable, pop that set of obj/img points."
   ]
  },
  {
   "cell_type": "code",
   "execution_count": null,
   "metadata": {},
   "outputs": [],
   "source": [
    "objpoints.pop()\n",
    "imgpoints.pop()"
   ]
  },
  {
   "cell_type": "code",
   "execution_count": null,
   "metadata": {},
   "outputs": [],
   "source": [
    "cap.release()"
   ]
  },
  {
   "cell_type": "code",
   "execution_count": null,
   "metadata": {},
   "outputs": [],
   "source": [
    "N_OK = len(objpoints)\n",
    "K = np.zeros((3, 3))\n",
    "D = np.zeros((4, 1))\n",
    "rvecs = [np.zeros((1, 1, 3), dtype=np.float64) for i in range(N_OK)]\n",
    "tvecs = [np.zeros((1, 1, 3), dtype=np.float64) for i in range(N_OK)]\n",
    "rms, _, _, _, _ = cv2.fisheye.calibrate(\n",
    "    objpoints,\n",
    "    imgpoints,\n",
    "    gray.shape[::-1],\n",
    "    K,\n",
    "    D,\n",
    "    rvecs,\n",
    "    tvecs,\n",
    "    calibration_flags,\n",
    "    (cv2.TERM_CRITERIA_EPS + cv2.TERM_CRITERIA_MAX_ITER, 30, 1e-6),\n",
    ")\n",
    "print(\"Found \" + str(N_OK) + \" valid images for calibration\")\n",
    "# print(\"DIM=\" + str(_img_shape[::-1]))\n",
    "print(\"K=np.array(\" + str(K.tolist()) + \")\")\n",
    "print(\"D=np.array(\" + str(D.tolist()) + \")\")\n",
    "D\n",
    "print(rms)"
   ]
  },
  {
   "cell_type": "markdown",
   "metadata": {},
   "source": [
    "# Undistortion"
   ]
  },
  {
   "cell_type": "code",
   "execution_count": null,
   "metadata": {},
   "outputs": [],
   "source": [
    "_, frame = cap.read()\n",
    "plt.imshow(frame)"
   ]
  },
  {
   "cell_type": "code",
   "execution_count": null,
   "metadata": {},
   "outputs": [],
   "source": [
    "undistortframe = cv2.fisheye.undistort(\n",
    "    frame,\n",
    "    np.array(\n",
    "        [\n",
    "            [789.9416456819346, 0.0, 643.8350456739382],\n",
    "            [0.0, 791.3634139038238, 351.1992571416615],\n",
    "            [0.0, 0.0, 1.0],\n",
    "        ]\n",
    "    ),\n",
    "    np.array(\n",
    "        [\n",
    "            [-0.10975678165468084],\n",
    "            [0.04428627707749935],\n",
    "            [-0.08883217424554242],\n",
    "            [0.07713861990052967],\n",
    "        ]\n",
    "    ),\n",
    ")\n",
    "plt.imshow(undistortframe)\n",
    "undistortframe"
   ]
  }
 ],
 "metadata": {
  "kernelspec": {
   "display_name": "probe-env",
   "language": "python",
   "name": "python3"
  },
  "language_info": {
   "codemirror_mode": {
    "name": "ipython",
    "version": 3
   },
   "file_extension": ".py",
   "mimetype": "text/x-python",
   "name": "python",
   "nbconvert_exporter": "python",
   "pygments_lexer": "ipython3",
   "version": "3.11.2"
  }
 },
 "nbformat": 4,
 "nbformat_minor": 2
}
